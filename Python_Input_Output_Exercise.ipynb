{
  "nbformat": 4,
  "nbformat_minor": 0,
  "metadata": {
    "colab": {
      "name": "Python_Input_Output_Exercise.ipynb",
      "provenance": [],
      "collapsed_sections": [],
      "authorship_tag": "ABX9TyM/5dy5Pw533DNGQlr1u2KA",
      "include_colab_link": true
    },
    "kernelspec": {
      "name": "python3",
      "display_name": "Python 3"
    }
  },
  "cells": [
    {
      "cell_type": "markdown",
      "metadata": {
        "id": "view-in-github",
        "colab_type": "text"
      },
      "source": [
        "<a href=\"https://colab.research.google.com/github/hsinha177/Python/blob/master/Python_Input_Output_Exercise.ipynb\" target=\"_parent\"><img src=\"https://colab.research.google.com/assets/colab-badge.svg\" alt=\"Open In Colab\"/></a>"
      ]
    },
    {
      "cell_type": "code",
      "metadata": {
        "id": "25MZAs2QooeR",
        "colab_type": "code",
        "colab": {
          "base_uri": "https://localhost:8080/",
          "height": 68
        },
        "outputId": "249dea14-ce2b-4d8d-c561-976570521f7b"
      },
      "source": [
        "#Question 1 : Accept two numbers from the user and calculate multiplication\n",
        "def mUl(x,y):\n",
        "  return x*y\n",
        "\n",
        "dIg1 = int(input(\"Enter first number : \"))\n",
        "dIg2 = int(input(\"Enter second number : \"))\n",
        "print(\"Product of\",dIg1,\"&\",dIg2,\"is :\",mUl(dIg1,dIg2))"
      ],
      "execution_count": 2,
      "outputs": [
        {
          "output_type": "stream",
          "text": [
            "Enter first number : 46\n",
            "Enter second number : 232\n",
            "Product of 46 & 232 is : 10672\n"
          ],
          "name": "stdout"
        }
      ]
    },
    {
      "cell_type": "code",
      "metadata": {
        "id": "xsmHYIUsRscc",
        "colab_type": "code",
        "colab": {
          "base_uri": "https://localhost:8080/",
          "height": 51
        },
        "outputId": "94f7cff6-5694-4fed-87be-dd3f60f75135"
      },
      "source": [
        "#Question 2: Display “My Name Is James” as “My**Name**Is**James” using output formatting of a print() function\n",
        "nAme = input(\"Enter a string : \")\n",
        "sTr = nAme.split(\" \")\n",
        "print(\"**\".join(sTr))"
      ],
      "execution_count": 5,
      "outputs": [
        {
          "output_type": "stream",
          "text": [
            "Enter a string : harsh is a boy.\n",
            "harsh**is**a**boy.\n"
          ],
          "name": "stdout"
        }
      ]
    },
    {
      "cell_type": "code",
      "metadata": {
        "id": "Z9yIphnkSvwM",
        "colab_type": "code",
        "colab": {
          "base_uri": "https://localhost:8080/",
          "height": 68
        },
        "outputId": "634874ef-ab9a-4405-f8b8-693a4f1da1e2"
      },
      "source": [
        "#Question 3: Convert decimal number to octal using print() output formatting\n",
        "dEc = int(input(\"Enter decimal equivalent : \"))\n",
        "\n",
        "print(\"Octal eqivalent : %o\"%(dEc))\n",
        "print(\"Hexa-Decimal equivalent : %x\"%(dEc))"
      ],
      "execution_count": 11,
      "outputs": [
        {
          "output_type": "stream",
          "text": [
            "Enter decimal equivalent : 232\n",
            "Octal eqivalent : 350\n",
            "Hexa-Decimal equivalent : e8\n"
          ],
          "name": "stdout"
        }
      ]
    },
    {
      "cell_type": "code",
      "metadata": {
        "id": "u6PCgdSbVEnS",
        "colab_type": "code",
        "colab": {
          "base_uri": "https://localhost:8080/",
          "height": 51
        },
        "outputId": "083c810f-988c-4e1e-a012-9a5db80ed642"
      },
      "source": [
        "#Question 4: Display float number with 2 decimal places using print()\n",
        "fLoatingnum = float(input(\"Enter any number with decimal values : \"))\n",
        "\n",
        "print(\"Floating number with decimal percision upto 2 digits : %.2f\"%(fLoatingnum))"
      ],
      "execution_count": 15,
      "outputs": [
        {
          "output_type": "stream",
          "text": [
            "Enter any number with decimal values : 46.232\n",
            "Floating number with decimal percision upto 2 digits : 46.23\n"
          ],
          "name": "stdout"
        }
      ]
    },
    {
      "cell_type": "code",
      "metadata": {
        "id": "OG-Ir-7FW9bi",
        "colab_type": "code",
        "colab": {
          "base_uri": "https://localhost:8080/",
          "height": 119
        },
        "outputId": "c1d8e768-1812-49e1-afaf-06d981664f39"
      },
      "source": [
        "#Question 5: Accept list of 5 float numbers as a input from user\n",
        "fLoatingList = []\n",
        "indeXing = int(input(\"Enter the indexing values : \"))\n",
        "print(\"Enter floating value : \")\n",
        "for i in range(0,indeXing):\n",
        "  fLoatingList.append(float(input()))\n",
        "\n",
        "print(\"Floating List : \",fLoatingList)"
      ],
      "execution_count": 17,
      "outputs": [
        {
          "output_type": "stream",
          "text": [
            "Enter the indexing values : 3\n",
            "Enter floating value : \n",
            "14.03\n",
            "15.02\n",
            "30.14\n",
            "Floating List :  [14.03, 15.02, 30.14]\n"
          ],
          "name": "stdout"
        }
      ]
    }
  ]
}