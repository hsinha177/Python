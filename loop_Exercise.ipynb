{
  "nbformat": 4,
  "nbformat_minor": 0,
  "metadata": {
    "colab": {
      "name": "loop_Exercise",
      "provenance": [],
      "authorship_tag": "ABX9TyNZ+GKFz7p/Ag0UdVEgA55H",
      "include_colab_link": true
    },
    "kernelspec": {
      "name": "python3",
      "display_name": "Python 3"
    }
  },
  "cells": [
    {
      "cell_type": "markdown",
      "metadata": {
        "id": "view-in-github",
        "colab_type": "text"
      },
      "source": [
        "<a href=\"https://colab.research.google.com/github/hsinha177/Python/blob/master/loop_Exercise.ipynb\" target=\"_parent\"><img src=\"https://colab.research.google.com/assets/colab-badge.svg\" alt=\"Open In Colab\"/></a>"
      ]
    },
    {
      "cell_type": "code",
      "metadata": {
        "id": "9_w_89VhoaKy",
        "colab_type": "code",
        "colab": {
          "base_uri": "https://localhost:8080/",
          "height": 187
        },
        "outputId": "94e6669d-31af-41c6-88ef-f5083cc24e1c"
      },
      "source": [
        "#Question 1: Print First 10 natural numbers using while loop\n",
        "natNum = 0\n",
        "while(natNum<10):\n",
        "  print(natNum)\n",
        "  natNum += 1"
      ],
      "execution_count": 2,
      "outputs": [
        {
          "output_type": "stream",
          "text": [
            "0\n",
            "1\n",
            "2\n",
            "3\n",
            "4\n",
            "5\n",
            "6\n",
            "7\n",
            "8\n",
            "9\n"
          ],
          "name": "stdout"
        }
      ]
    },
    {
      "cell_type": "code",
      "metadata": {
        "id": "YXmND4NaqcQa",
        "colab_type": "code",
        "colab": {
          "base_uri": "https://localhost:8080/",
          "height": 102
        },
        "outputId": "f594d87d-2fab-47c9-84f2-654c8a66722b"
      },
      "source": [
        "#Exercise Question 2: Print the pattern\n",
        "for i in range(1,6):\n",
        "  for j in range(1,i+1):\n",
        "    print(j,end = ' ')\n",
        "  print()"
      ],
      "execution_count": 5,
      "outputs": [
        {
          "output_type": "stream",
          "text": [
            "1 \n",
            "1 2 \n",
            "1 2 3 \n",
            "1 2 3 4 \n",
            "1 2 3 4 5 \n"
          ],
          "name": "stdout"
        }
      ]
    },
    {
      "cell_type": "code",
      "metadata": {
        "id": "0nVFJODgrZjO",
        "colab_type": "code",
        "colab": {
          "base_uri": "https://localhost:8080/",
          "height": 51
        },
        "outputId": "d7865c26-23d5-4da0-ad7e-7d3132cc9c8a"
      },
      "source": [
        "#Question 3: Accept n number from user and calculate the sum of all number between 1 and n including n\n",
        "toTal = 0\n",
        "lImit = int(input(\"Enter the range : \"))\n",
        "for i in range(1,lImit+1):\n",
        "  toTal +=i\n",
        "print(\"Sum of all the numbers from 1 to\",lImit,\"is :\",toTal)"
      ],
      "execution_count": 6,
      "outputs": [
        {
          "output_type": "stream",
          "text": [
            "Enter the range : 10\n",
            "Sum of all the numbers from 1 to 10 is : 55\n"
          ],
          "name": "stdout"
        }
      ]
    },
    {
      "cell_type": "code",
      "metadata": {
        "id": "eUsuba8esLt0",
        "colab_type": "code",
        "colab": {
          "base_uri": "https://localhost:8080/",
          "height": 204
        },
        "outputId": "01442836-ecf7-4311-e27e-16148f9ba9d6"
      },
      "source": [
        "#Question 4: Accept n number from user and print its multiplication table\n",
        "coUnt = 1\n",
        "vaLue = int(input(\"Enter the table number : \"))\n",
        "\n",
        "while(coUnt<=10):\n",
        "  print(vaLue,\"*\",coUnt,\"=\",vaLue*coUnt)\n",
        "  coUnt += 1"
      ],
      "execution_count": 8,
      "outputs": [
        {
          "output_type": "stream",
          "text": [
            "Enter the table number : 12\n",
            "12 * 1 = 12\n",
            "12 * 2 = 24\n",
            "12 * 3 = 36\n",
            "12 * 4 = 48\n",
            "12 * 5 = 60\n",
            "12 * 6 = 72\n",
            "12 * 7 = 84\n",
            "12 * 8 = 96\n",
            "12 * 9 = 108\n",
            "12 * 10 = 120\n"
          ],
          "name": "stdout"
        }
      ]
    },
    {
      "cell_type": "code",
      "metadata": {
        "id": "1OLXzWGU32_P",
        "colab_type": "code",
        "colab": {
          "base_uri": "https://localhost:8080/",
          "height": 170
        },
        "outputId": "85bed65d-7304-493c-cd15-b7eb14eb71ce"
      },
      "source": [
        "#Question 5: Given a list iterate it and display numbers which are divisible by 5 and if you find number greater than 120 stop the loop iteration\n",
        "dIv = []\n",
        "indeXing = int(input(\"Enter the indexing values : \"))\n",
        "print(\"Enter values : \")\n",
        "for i in range(0,indeXing):\n",
        "  dIv.append(int(input()))\n",
        "print()\n",
        "for i in dIv:\n",
        "  if i<=120:\n",
        "    if (i%5 == 0):\n",
        "      print(i,end = ' ')\n",
        "  else:\n",
        "    break"
      ],
      "execution_count": 10,
      "outputs": [
        {
          "output_type": "stream",
          "text": [
            "Enter the indexing values : 5\n",
            "Enter values : \n",
            "10\n",
            "110\n",
            "130\n",
            "155\n",
            "25\n",
            "\n",
            "10 110 "
          ],
          "name": "stdout"
        }
      ]
    },
    {
      "cell_type": "code",
      "metadata": {
        "id": "hoWqdhHo-z2Z",
        "colab_type": "code",
        "colab": {
          "base_uri": "https://localhost:8080/",
          "height": 51
        },
        "outputId": "2d309702-6287-4e82-85fc-33b99f50842f"
      },
      "source": [
        "#Question 6: Given a number count the total number of digits in a number\n",
        "fReq = 0\n",
        "dIgiT = input(\"Enter any number : \")\n",
        "for i in (dIgiT):\n",
        "  fReq += 1\n",
        "print(\"Total number of digits in\",dIgiT,\"are :\",fReq)"
      ],
      "execution_count": 13,
      "outputs": [
        {
          "output_type": "stream",
          "text": [
            "Enter any number : 46150230141430\n",
            "Total number of digits in 46150230141430 are : 14\n"
          ],
          "name": "stdout"
        }
      ]
    },
    {
      "cell_type": "code",
      "metadata": {
        "id": "PzOvcYN4BE2E",
        "colab_type": "code",
        "colab": {
          "base_uri": "https://localhost:8080/",
          "height": 102
        },
        "outputId": "a5845632-1465-48ae-be39-297697880140"
      },
      "source": [
        "#Question 7: Print the pattern using for loop\n",
        "for i in range(5,0,-1):\n",
        "  for j in range(i,0,-1):\n",
        "    print(j,end=' ')\n",
        "  print()"
      ],
      "execution_count": 25,
      "outputs": [
        {
          "output_type": "stream",
          "text": [
            "5 4 3 2 1 \n",
            "4 3 2 1 \n",
            "3 2 1 \n",
            "2 1 \n",
            "1 \n"
          ],
          "name": "stdout"
        }
      ]
    },
    {
      "cell_type": "code",
      "metadata": {
        "id": "NMtMXuz4EA3z",
        "colab_type": "code",
        "colab": {
          "base_uri": "https://localhost:8080/",
          "height": 153
        },
        "outputId": "7e346fa5-fb21-4240-a935-427a4bc77387"
      },
      "source": [
        "#Question 8: Reverse the list using for loop\n",
        "oRg = []\n",
        "rEv = []\n",
        "\n",
        "indeXing = int(input(\"Enter the indexing values : \"))\n",
        "print(\"Enter values : \")\n",
        "for i in range(0,indeXing):\n",
        "  oRg.append(int(input()))\n",
        "\n",
        "lEn = len(oRg)\n",
        "for i in range(lEn-1,-1,-1):\n",
        "  rEv.append(oRg[i])\n",
        "print(\"Reversed List :\",rEv)\n"
      ],
      "execution_count": 36,
      "outputs": [
        {
          "output_type": "stream",
          "text": [
            "Enter the indexing values : 5\n",
            "Enter values : \n",
            "14\n",
            "15\n",
            "03\n",
            "02\n",
            "30\n",
            "Reversed List : [30, 2, 3, 15, 14]\n"
          ],
          "name": "stdout"
        }
      ]
    },
    {
      "cell_type": "code",
      "metadata": {
        "id": "ealjLkJyF5jt",
        "colab_type": "code",
        "colab": {
          "base_uri": "https://localhost:8080/",
          "height": 187
        },
        "outputId": "bd71ee2a-7781-4dfe-e265-3491e270e999"
      },
      "source": [
        "#Question 9 : Display -10 to -1 using for loop\n",
        "for i in range(-10,0):\n",
        "  print(i)"
      ],
      "execution_count": 45,
      "outputs": [
        {
          "output_type": "stream",
          "text": [
            "-10\n",
            "-9\n",
            "-8\n",
            "-7\n",
            "-6\n",
            "-5\n",
            "-4\n",
            "-3\n",
            "-2\n",
            "-1\n"
          ],
          "name": "stdout"
        }
      ]
    }
  ]
}