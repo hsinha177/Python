{
  "nbformat": 4,
  "nbformat_minor": 0,
  "metadata": {
    "colab": {
      "name": "pythonprojects.ipynb",
      "provenance": [],
      "authorship_tag": "ABX9TyMe1iUeAUbBZW6kXXi30gzM",
      "include_colab_link": true
    },
    "kernelspec": {
      "name": "python3",
      "display_name": "Python 3"
    }
  },
  "cells": [
    {
      "cell_type": "markdown",
      "metadata": {
        "id": "view-in-github",
        "colab_type": "text"
      },
      "source": [
        "<a href=\"https://colab.research.google.com/github/hsinha177/Python/blob/master/pythonprojects.ipynb\" target=\"_parent\"><img src=\"https://colab.research.google.com/assets/colab-badge.svg\" alt=\"Open In Colab\"/></a>"
      ]
    },
    {
      "cell_type": "code",
      "metadata": {
        "id": "O5zY_YAy3KJV",
        "colab_type": "code",
        "outputId": "cfa7942f-9405-4d83-f58f-5bda2aad30ce",
        "colab": {
          "base_uri": "https://localhost:8080/",
          "height": 68
        }
      },
      "source": [
        "#area of triangle\n",
        "bAse = int(input(\"Enter base : \"))\n",
        "hEight = int(input(\"Enter height : \"))\n",
        "\n",
        "aRea = 0.5*hEight*bAse\n",
        "\n",
        "print(\"Area of triangle : \",aRea)"
      ],
      "execution_count": 0,
      "outputs": [
        {
          "output_type": "stream",
          "text": [
            "Enter base : 10\n",
            "Enter height : 10\n",
            "Area of triangle :  50.0\n"
          ],
          "name": "stdout"
        }
      ]
    },
    {
      "cell_type": "code",
      "metadata": {
        "id": "Ay54JmeB_EC0",
        "colab_type": "code",
        "outputId": "49a883bd-b5cb-485f-8be1-9d3bd87e6e81",
        "colab": {
          "base_uri": "https://localhost:8080/",
          "height": 68
        }
      },
      "source": [
        "#Question 1: Accept two int values from the user and return their product. If the product is greater than 1000, then return their sum\n",
        "def pRo(nUm1,nUm2):\n",
        "  return nUm1*nUm2\n",
        "\n",
        "def sUm(nUm1,nUm2):\n",
        "  return nUm1+nUm2\n",
        "\n",
        "nUm1 = int(input(\"Enter 1 no.: \"))\n",
        "nUm2 = int(input(\"Enter 2 no.: \"))\n",
        "if (pRo(nUm1,nUm2)>1000):\n",
        "  print(\"Sum is : \",sUm(nUm1,nUm2))\n",
        "else:\n",
        "  print(\"Product is : \",pRo(nUm1,nUm2))"
      ],
      "execution_count": 0,
      "outputs": [
        {
          "output_type": "stream",
          "text": [
            "Enter 1 no.: 46\n",
            "Enter 2 no.: 232\n",
            "Sum is :  278\n"
          ],
          "name": "stdout"
        }
      ]
    },
    {
      "cell_type": "code",
      "metadata": {
        "id": "w4tV7t8Vif4u",
        "colab_type": "code",
        "outputId": "3e210b0a-766c-482d-d37c-97b2ff6f80b0",
        "colab": {
          "base_uri": "https://localhost:8080/",
          "height": 51
        }
      },
      "source": [
        "#Question 2: Given a range of numbers. Iterate from o^th number to the end number and print the sum of the current number and previous number\n",
        "cUr = 0\n",
        "pRev = 0\n",
        "sUm = []\n",
        "rAnge = int(input(\"Enter indexing Range : \"))\n",
        "for i in range(0,rAnge):\n",
        "  cUr = i\n",
        "  aDd = cUr + pRev\n",
        "  sUm.append(aDd)\n",
        "  pRev = cUr\n",
        "\n",
        "print(sUm)"
      ],
      "execution_count": 0,
      "outputs": [
        {
          "output_type": "stream",
          "text": [
            "Enter indexing Range : 10\n",
            "[0, 1, 3, 5, 7, 9, 11, 13, 15, 17]\n"
          ],
          "name": "stdout"
        }
      ]
    },
    {
      "cell_type": "code",
      "metadata": {
        "id": "V_KVgxtnm86g",
        "colab_type": "code",
        "outputId": "e57bdff7-1ab7-4aa4-c91f-743b62beb6c9",
        "colab": {
          "base_uri": "https://localhost:8080/",
          "height": 102
        }
      },
      "source": [
        "#Question 3: Accept string from the user and display only those characters which are present at an even index\n",
        "sTr = input(\"Enter a string : \")\n",
        "for i in range(0,len(sTr)):\n",
        "  if (i%2 == 0):\n",
        "    print(sTr[i])"
      ],
      "execution_count": 0,
      "outputs": [
        {
          "output_type": "stream",
          "text": [
            "Enter a string : Shubham\n",
            "S\n",
            "u\n",
            "h\n",
            "m\n"
          ],
          "name": "stdout"
        }
      ]
    },
    {
      "cell_type": "code",
      "metadata": {
        "id": "dpahY_B5pnfU",
        "colab_type": "code",
        "outputId": "af76f407-9bdc-44d8-8f78-6ac0e29451d5",
        "colab": {
          "base_uri": "https://localhost:8080/",
          "height": 68
        }
      },
      "source": [
        "#Question 4: Given a string and an int n, remove characters from a string starting from zero up to n and return a new string\n",
        "def remChar(sTr,rmv):\n",
        "  sTr1 = ''\n",
        "  for i in range(rmv+1,len(sTr)):\n",
        "    sTr1 += sTr[i]  \n",
        "  return sTr1\n",
        "\n",
        "sTr = input(\"Enter a string : \")\n",
        "rmv = int(input(\"Enter the slicing value : \"))\n",
        "if (len(sTr)<rmv):\n",
        "  print(\"Slicing value exceeded string length.\")\n",
        "else:\n",
        "  print(\"String after slicing : \",remChar(sTr,rmv))"
      ],
      "execution_count": 0,
      "outputs": [
        {
          "output_type": "stream",
          "text": [
            "Enter a string : Harsh\n",
            "Enter the slicing value : 2\n",
            "String after slicing :  sh\n"
          ],
          "name": "stdout"
        }
      ]
    },
    {
      "cell_type": "code",
      "metadata": {
        "id": "KO-crQLnvAif",
        "colab_type": "code",
        "outputId": "9c1ed37e-9600-4bc2-c112-114fe1ed0366",
        "colab": {
          "base_uri": "https://localhost:8080/",
          "height": 136
        }
      },
      "source": [
        "#Question 5: Given a list of ints, return True if first and last number of a list is same\n",
        "def cHecK(lSt,rAnGe):\n",
        "  if (lSt[0]==lSt[rAnGe-1]):\n",
        "    return True\n",
        "  else:\n",
        "    return False\n",
        "\n",
        "lSt = []\n",
        "rAnGe = int(input(\"Enter indexing range : \"))\n",
        "for i in range(0,rAnGe):\n",
        "  lSt.append(int(input()))\n",
        "print(cHecK(lSt,rAnGe))"
      ],
      "execution_count": 0,
      "outputs": [
        {
          "output_type": "stream",
          "text": [
            "Enter indexing range : 5\n",
            "1\n",
            "6\n",
            "8\n",
            "5\n",
            "1\n",
            "True\n"
          ],
          "name": "stdout"
        }
      ]
    },
    {
      "cell_type": "code",
      "metadata": {
        "id": "BmaxB1onzx30",
        "colab_type": "code",
        "outputId": "8d66d1e1-8a4d-4d42-ed49-1476b9754ae2",
        "colab": {
          "base_uri": "https://localhost:8080/",
          "height": 136
        }
      },
      "source": [
        "#Question 6: Given a list of numbers, Iterate it and print only those numbers which are divisible of 5\n",
        "lst = []\n",
        "no = []\n",
        "c = 0\n",
        "n = int(input(\"Enter indexing range : \"))\n",
        "for i in range(0,n):\n",
        "    ele = int(input())\n",
        "    lst.append(ele)\n",
        "\n",
        "for i in lst:\n",
        "    if(i%5==0):\n",
        "        c+=1\n",
        "        no.append(i)\n",
        "\n",
        "print(\"number of divisible by 5 : \",no)"
      ],
      "execution_count": 0,
      "outputs": [
        {
          "output_type": "stream",
          "text": [
            "Enter indexing range : 5\n",
            "10\n",
            "26\n",
            "15\n",
            "22\n",
            "20\n",
            "number of divisible by 5 :  [10, 15, 20]\n"
          ],
          "name": "stdout"
        }
      ]
    },
    {
      "cell_type": "code",
      "metadata": {
        "id": "Th1xt9yP1qxw",
        "colab_type": "code",
        "outputId": "ae64bf6d-69b3-451a-9ad8-3f6495e5c3c5",
        "colab": {
          "base_uri": "https://localhost:8080/",
          "height": 68
        }
      },
      "source": [
        "#Question 7: Return the number of times that the string “user defned” appears anywhere in the given string\n",
        "sTrng = input(\"Enter the string : \")\n",
        "fInD = input(\"Enter the word you want to find in string : \")\n",
        "\n",
        "print(fInD,\" appered \",sTrng.count(fInD),\"times\")"
      ],
      "execution_count": 2,
      "outputs": [
        {
          "output_type": "stream",
          "text": [
            "Enter the string : hello my namw is shubham. shubham lives in bihar. shubham is persuing btech. shubham is in 3 yr. subham optd cs.\n",
            "Enter the word you want to find in string : shubham\n",
            "shubham  appered  4 times\n"
          ],
          "name": "stdout"
        }
      ]
    },
    {
      "cell_type": "code",
      "metadata": {
        "id": "RSKwOdHm2jEn",
        "colab_type": "code",
        "colab": {
          "base_uri": "https://localhost:8080/",
          "height": 102
        },
        "outputId": "9cffca52-cfb2-4333-a5d7-0d55a78f38eb"
      },
      "source": [
        "#Question 8: Print the pattern\n",
        "for i in range(1,6):\n",
        "  for j in range(0,i):\n",
        "    print(i,end=' ')\n",
        "  print()"
      ],
      "execution_count": 11,
      "outputs": [
        {
          "output_type": "stream",
          "text": [
            "1 \n",
            "2 2 \n",
            "3 3 3 \n",
            "4 4 4 4 \n",
            "5 5 5 5 5 \n"
          ],
          "name": "stdout"
        }
      ]
    },
    {
      "cell_type": "code",
      "metadata": {
        "id": "kJZRsQd6SCt2",
        "colab_type": "code",
        "colab": {
          "base_uri": "https://localhost:8080/",
          "height": 68
        },
        "outputId": "bb64d916-170e-47be-bb73-740df0217f61"
      },
      "source": [
        "#Question 9: Reverse a given number and return true if it is the same as the original number\n",
        "def palindrome(nUm):\n",
        "  s = 0\n",
        "  rem = 0\n",
        "  teMp = nUm\n",
        "  while(nUm):\n",
        "    rem = nUm%10\n",
        "    s = s*10+rem\n",
        "    nUm = nUm//10\n",
        "  if (s==teMp):\n",
        "    print(s)\n",
        "    return True\n",
        "  else:\n",
        "    print(s)\n",
        "    return False\n",
        "\n",
        "\n",
        "nUm = int(input(\"Enter a number : \"))\n",
        "print(palindrome(nUm))"
      ],
      "execution_count": 21,
      "outputs": [
        {
          "output_type": "stream",
          "text": [
            "Enter a number : 121\n",
            "121\n",
            "True\n"
          ],
          "name": "stdout"
        }
      ]
    },
    {
      "cell_type": "code",
      "metadata": {
        "id": "SGQlw0tDWtkn",
        "colab_type": "code",
        "colab": {
          "base_uri": "https://localhost:8080/",
          "height": 238
        },
        "outputId": "83e2a581-47da-49fa-afe9-164f0466e44f"
      },
      "source": [
        "#Question 10: Given a two list of ints create a third list such that should contain only odd numbers from the first list and even numbers from the second list\n",
        "lSt1 = []\n",
        "lSt2 = []\n",
        "lSt3 = []\n",
        "\n",
        "n1 = int(input(\"Enter indexing range for 1 list: \"))\n",
        "for i in range(0,n1):\n",
        "    ele = int(input())\n",
        "    lSt1.append(ele)\n",
        "\n",
        "n2 = int(input(\"Enter indexing range : \"))\n",
        "for i in range(0,n2):\n",
        "    ele = int(input())\n",
        "    lSt2.append(ele)\n",
        "\n",
        "for i in lSt1:\n",
        "  if (i%2 != 0):\n",
        "    lSt3.append(i)\n",
        "for i in lSt2:\n",
        "  if (i%2 == 0):\n",
        "    lSt3.append(i)\n",
        "\n",
        "print(\"Merged array : \",lSt3)"
      ],
      "execution_count": 22,
      "outputs": [
        {
          "output_type": "stream",
          "text": [
            "Enter indexing range for 1 list: 5\n",
            "1\n",
            "2\n",
            "3\n",
            "4\n",
            "5\n",
            "Enter indexing range : 5\n",
            "6\n",
            "7\n",
            "8\n",
            "9\n",
            "10\n",
            "Merged array :  [1, 3, 5, 6, 8, 10]\n"
          ],
          "name": "stdout"
        }
      ]
    }
  ]
}